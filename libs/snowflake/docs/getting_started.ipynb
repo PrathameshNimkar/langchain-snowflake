{
 "cells": [
  {
   "cell_type": "markdown",
   "metadata": {},
   "source": [
    "# Getting Started with LangChain Snowflake\n",
    "\n",
    "This guide will help you get started with the `langchain-snowflake` package in 5 minutes.\n",
    "\n",
    "## What You'll Learn\n",
    "\n",
    "1. **Installation**\n",
    "2. **Quick Environment Setup** - Set up credentials and connect to Snowflake\n",
    "3. **First Successful Connection** - Verify your setup works\n",
    "4. **Simple Chat Completion** - Generate text with Snowflake Cortex\n",
    "5. **Basic Tool Usage** - Use all 5 Cortex AI tools\n",
    "6. **Troubleshooting** - Common issues and solutions\n",
    "\n",
    "## Prerequisites\n",
    "\n",
    "- A Snowflake account with Cortex features enabled\n",
    "- Valid Snowflake credentials\n",
    "- Python 3.8+\n"
   ]
  },
  {
   "cell_type": "markdown",
   "metadata": {},
   "source": [
    "## 1. Installation\n",
    "\n",
    "Install the package:\n"
   ]
  },
  {
   "cell_type": "code",
   "execution_count": null,
   "metadata": {},
   "outputs": [],
   "source": [
    "# %pip install --quiet -U langchain-snowflake\n",
    "# %pip install --quiet -U langchain-core  # Ensure latest version"
   ]
  },
  {
   "cell_type": "markdown",
   "metadata": {},
   "source": [
    "## 2. Quick Environment Setup\n",
    "\n",
    "Set up your Snowflake credentials. Choose one method:\n"
   ]
  },
  {
   "cell_type": "code",
   "execution_count": null,
   "metadata": {},
   "outputs": [],
   "source": [
    "import getpass\n",
    "import os\n",
    "\n",
    "# Method 1: Environment Variables (Recommended)\n",
    "# Set these in your shell or .env file\n",
    "required_vars = [\n",
    "    \"SNOWFLAKE_ACCOUNT\",\n",
    "    \"SNOWFLAKE_USER\",\n",
    "    \"SNOWFLAKE_PASSWORD\",\n",
    "    \"SNOWFLAKE_WAREHOUSE\",\n",
    "    \"SNOWFLAKE_DATABASE\",\n",
    "    \"SNOWFLAKE_SCHEMA\",\n",
    "]\n",
    "\n",
    "print(\"Checking environment variables...\")\n",
    "missing_vars = [var for var in required_vars if not os.getenv(var)]\n",
    "\n",
    "if missing_vars:\n",
    "    print(f\"Missing: {missing_vars}\")\n",
    "    print(\"\\nSetting up interactively...\")\n",
    "\n",
    "    # Interactive setup for missing variables\n",
    "    if not os.getenv(\"SNOWFLAKE_ACCOUNT\"):\n",
    "        os.environ[\"SNOWFLAKE_ACCOUNT\"] = input(\"Enter your Snowflake account: \")\n",
    "    if not os.getenv(\"SNOWFLAKE_USER\"):\n",
    "        os.environ[\"SNOWFLAKE_USER\"] = input(\"Enter your Snowflake user: \")\n",
    "    if not os.getenv(\"SNOWFLAKE_PASSWORD\") and not os.getenv(\"SNOWFLAKE_PAT\"):\n",
    "        os.environ[\"SNOWFLAKE_PASSWORD\"] = getpass.getpass(\n",
    "            \"Enter your Snowflake password: \"\n",
    "        )\n",
    "    if not os.getenv(\"SNOWFLAKE_WAREHOUSE\"):\n",
    "        os.environ[\"SNOWFLAKE_WAREHOUSE\"] = input(\n",
    "            \"Enter your warehouse (e.g., COMPUTE_WH): \"\n",
    "        )\n",
    "    if not os.getenv(\"SNOWFLAKE_DATABASE\"):\n",
    "        os.environ[\"SNOWFLAKE_DATABASE\"] = input(\"Enter your database: \")\n",
    "    if not os.getenv(\"SNOWFLAKE_SCHEMA\"):\n",
    "        os.environ[\"SNOWFLAKE_SCHEMA\"] = input(\"Enter your schema (e.g., PUBLIC): \")\n",
    "else:\n",
    "    print(\"All environment variables set!\")\n",
    "\n",
    "print(\"\\nConnection info:\")\n",
    "print(f\"   Account: {os.getenv('SNOWFLAKE_ACCOUNT')}\")\n",
    "print(f\"   User: {os.getenv('SNOWFLAKE_USER')}\")\n",
    "print(f\"   Warehouse: {os.getenv('SNOWFLAKE_WAREHOUSE')}\")\n",
    "print(f\"   Database: {os.getenv('SNOWFLAKE_DATABASE')}\")\n",
    "print(f\"   Schema: {os.getenv('SNOWFLAKE_SCHEMA')}\")"
   ]
  },
  {
   "cell_type": "markdown",
   "metadata": {},
   "source": [
    "## 3. First Successful Connection\n",
    "\n",
    "Test your connection to Snowflake:\n"
   ]
  },
  {
   "cell_type": "code",
   "execution_count": null,
   "metadata": {},
   "outputs": [],
   "source": [
    "from langchain_snowflake import create_session_from_env\n",
    "\n",
    "try:\n",
    "    # Create session using environment variables\n",
    "    session = create_session_from_env()\n",
    "    print(\"Snowflake connection successful!\")\n",
    "\n",
    "    # Test the connection with a simple query\n",
    "    result = session.sql(\n",
    "        \"SELECT CURRENT_VERSION() as version, CURRENT_WAREHOUSE() as warehouse\"\n",
    "    ).collect()\n",
    "    print(f\"Connected to Snowflake version: {result[0]['VERSION']}\")\n",
    "    print(f\"Using warehouse: {result[0]['WAREHOUSE']}\")\n",
    "\n",
    "except Exception as e:\n",
    "    print(f\"Connection failed: {e}\")\n",
    "    print(\"\\nSee troubleshooting section below\")"
   ]
  },
  {
   "cell_type": "markdown",
   "metadata": {},
   "source": [
    "## 4. Simple Chat Completion\n",
    "\n",
    "Generate text with Snowflake Cortex LLMs:\n"
   ]
  },
  {
   "cell_type": "code",
   "execution_count": null,
   "metadata": {},
   "outputs": [],
   "source": [
    "from langchain_snowflake import ChatSnowflake\n",
    "\n",
    "# Initialize chat model\n",
    "llm = ChatSnowflake(\n",
    "    session=session, model=\"claude-3-5-sonnet\", temperature=0.1, max_tokens=500\n",
    ")\n",
    "\n",
    "print(\"Testing basic chat completion...\")\n",
    "\n",
    "# Simple text generation\n",
    "response = llm.invoke(\"Explain Snowflake Cortex AI in 2 sentences.\")\n",
    "print(f\"\\nResponse: {response.content}\")\n",
    "\n",
    "if response.usage_metadata:\n",
    "    print(f\"\\nUsage: {response.usage_metadata}\")\n",
    "\n",
    "print(\"\\nChat completion working!\")"
   ]
  },
  {
   "cell_type": "markdown",
   "metadata": {},
   "source": [
    "## 5. Basic Tool Usage - 5 Cortex LLM Tools\n",
    "\n",
    "Explore 5 Snowflake Cortex AI LLM tools:\n"
   ]
  },
  {
   "cell_type": "code",
   "execution_count": null,
   "metadata": {},
   "outputs": [],
   "source": [
    "from langchain_snowflake import (\n",
    "    CortexCompleteTool,\n",
    "    CortexSentimentTool,\n",
    "    CortexSummarizerTool,\n",
    "    CortexTranslatorTool,\n",
    "    SnowflakeQueryTool,\n",
    ")\n",
    "\n",
    "print(\"Testing 5 Cortex tools...\\n\")\n",
    "\n",
    "# 1. Sentiment Analysis\n",
    "sentiment_tool = CortexSentimentTool(session=session)\n",
    "sentiment_result = sentiment_tool.run(\"I love using Snowflake Cortex for AI workloads!\")\n",
    "print(f\"Sentiment: {sentiment_result}\")\n",
    "\n",
    "# 2. Text Summarization\n",
    "summarizer_tool = CortexSummarizerTool(session=session)\n",
    "long_text = \"Snowflake is a cloud-based data platform that provides data warehousing services. It supports multiple cloud providers and separates storage from compute, allowing flexible scaling. The platform is known for its performance and ease of use.\"\n",
    "summary_result = summarizer_tool.run(long_text)\n",
    "print(f\"\\nSummary: {summary_result}\")\n",
    "\n",
    "# 3. Translation\n",
    "translator_tool = CortexTranslatorTool(session=session)\n",
    "translation_result = translator_tool.run(\n",
    "    {\"text\": \"Hello, welcome to Snowflake!\", \"target_language\": \"es\"}\n",
    ")\n",
    "print(f\"\\nTranslation: {translation_result}\")\n",
    "\n",
    "# 4. Text Generation\n",
    "complete_tool = CortexCompleteTool(session=session, model=\"claude-3-5-sonnet\")\n",
    "generation_result = complete_tool.run(\"Write a short tagline for Snowflake Cortex AI\")\n",
    "print(f\"\\nGeneration: {generation_result}\")\n",
    "\n",
    "# 5. SQL Query Execution (simple example)\n",
    "query_tool = SnowflakeQueryTool(session=session)\n",
    "query_result = query_tool.run(\n",
    "    \"SELECT 'Tools working!' as status, CURRENT_TIMESTAMP() as timestamp\"\n",
    ")\n",
    "print(f\"\\nQuery: {query_result}\")"
   ]
  },
  {
   "cell_type": "markdown",
   "metadata": {},
   "source": [
    "## 6. Troubleshooting Checklist\n",
    "\n",
    "Common issues and solutions:\n",
    "\n",
    "### Connection Issues\n",
    "\n",
    "**Problem:** `Failed to create session`\n",
    "**Solutions:**\n",
    "- Verify account name (exclude `.snowflakecomputing.com`)\n",
    "- Check username and password\n",
    "- Verify database and schema exist\n",
    "\n",
    "### Authentication Issues\n",
    "\n",
    "**Problem:** `Authentication failed`\n",
    "**Solutions:**\n",
    "- Try Personal Access Token instead of password\n",
    "- Check key pair authentication setup\n",
    "- Verify user has necessary privileges\n",
    "\n",
    "### Model Issues\n",
    "\n",
    "**Problem:** `Model not available`\n",
    "**Solutions:**\n",
    "- Verify model availability in your cloud & region\n",
    "\n",
    "### Tool Issues\n",
    "\n",
    "**Problem:** `Tool execution failed`\n",
    "**Solutions:**\n",
    "- Verify input format matches expected schema\n",
    "- Try with simpler test inputs first\n",
    "\n",
    "### Getting Help\n",
    "\n",
    "If you're still having issues:\n",
    "1. Check the [Snowflake documentation](https://docs.snowflake.com/en/user-guide/snowflake-cortex)\n",
    "2. Check GitHub issues for known problems"
   ]
  },
  {
   "cell_type": "markdown",
   "metadata": {},
   "source": [
    "## Next Steps\n",
    "\n",
    "Congratulations! You've successfully:\n",
    "- Connected to Snowflake\n",
    "- Explored Cortex LLMs\n",
    "\n",
    "### What's Next?\n",
    "\n",
    "1. [**Explore Snowflake-specific workflows**](snowflake_workflows.ipynb)\n",
    "2. [**Learn advanced patterns**](advanced_patterns.ipynb)\n",
    "\n",
    "**Happy building with LangChain + Snowflake! **\n"
   ]
  }
 ],
 "metadata": {
  "kernelspec": {
   "display_name": "langchain-snowflake",
   "language": "python",
   "name": "python3"
  },
  "language_info": {
   "codemirror_mode": {
    "name": "ipython",
    "version": 3
   },
   "file_extension": ".py",
   "mimetype": "text/x-python",
   "name": "python",
   "nbconvert_exporter": "python",
   "pygments_lexer": "ipython3",
   "version": "3.10.18"
  }
 },
 "nbformat": 4,
 "nbformat_minor": 2
}
